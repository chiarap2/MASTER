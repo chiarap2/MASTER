{
 "cells": [
  {
   "cell_type": "code",
   "execution_count": 2,
   "metadata": {},
   "outputs": [],
   "source": [
    "from __future__ import print_function\n",
    "\n",
    "import json\n",
    "\n",
    "from os import listdir\n",
    "from os.path import isfile, join\n",
    "import itertools\n",
    "\n",
    "from datetime import datetime, timedelta\n",
    "import re\n",
    "\n",
    "import plotly \n",
    "import plotly.plotly as py\n",
    "import plotly.graph_objs as go\n",
    "plotly.tools.set_credentials_file(username='vinicezarml', api_key='nanEOHpctjmzWH6sokGZ')\n",
    "plotly.tools.set_config_file(world_readable=True, sharing='public')\n"
   ]
  },
  {
   "cell_type": "code",
   "execution_count": 3,
   "metadata": {},
   "outputs": [],
   "source": [
    "import time, sys\n",
    "from IPython.display import clear_output\n",
    "\n",
    "def update_progress(progress):\n",
    "    bar_length = 50\n",
    "    if isinstance(progress, int):\n",
    "        progress = float(progress)\n",
    "    if not isinstance(progress, float):\n",
    "        progress = 0\n",
    "    if progress < 0:\n",
    "        progress = 0\n",
    "    if progress >= 1:\n",
    "        progress = 1\n",
    "\n",
    "    block = int(round(bar_length * progress))\n",
    "\n",
    "    clear_output(wait = True)\n",
    "    text = \"Progress: [{0}] {1:.1f}%\".format( \"#\" * block + \"-\" * (bar_length - block), progress * 100)\n",
    "    print(text)"
   ]
  },
  {
   "cell_type": "code",
   "execution_count": 4,
   "metadata": {},
   "outputs": [],
   "source": [
    "# https://www.iana.org/assignments/language-subtag-registry/language-subtag-registry\n",
    "\n",
    "dic_languages = {'ar': 'Arabic',\n",
    " 'ca': 'Catalan',\n",
    " 'da': 'Danish',\n",
    " 'de': 'German',\n",
    " 'el': 'Greek',\n",
    " 'et': 'Estonian',\n",
    " 'en': 'English',\n",
    " 'en-gb': 'English UK',\n",
    " 'es': 'Spanish',\n",
    " 'fa': 'Farsi',\n",
    " 'fi': 'Finnish',\n",
    " 'fil': 'Filipino',\n",
    " 'fr': 'French',\n",
    " 'he': 'Hebrew',\n",
    " 'hi': 'Hindi',\n",
    " 'hu': 'Hungarian',\n",
    " 'id': 'Indonesian',\n",
    " 'it': 'Italian',\n",
    " 'ja': 'Japanese',\n",
    " 'ko': 'Korean',\n",
    " 'msa': 'Malay',\n",
    " 'nl': 'Dutch',\n",
    " 'no': 'Norwegian',\n",
    " 'pl': 'Polish',\n",
    " 'pt': 'Portuguese',\n",
    " 'ru': 'Russian',\n",
    " 'sv': 'Swedish',\n",
    " 'th': 'Thai',\n",
    " 'tr': 'Turkish',\n",
    " 'tl': 'Filippino',                \n",
    " 'ur': 'Urdu',\n",
    " 'zh-cn': 'Simplified Chinese',\n",
    " 'zh-tw': 'Traditional Chinese'}\n",
    "    "
   ]
  },
  {
   "cell_type": "markdown",
   "metadata": {},
   "source": [
    "### Loading Data"
   ]
  },
  {
   "cell_type": "code",
   "execution_count": 5,
   "metadata": {},
   "outputs": [
    {
     "name": "stdout",
     "output_type": "stream",
     "text": [
      "(25.445706, 36.426074)\n"
     ]
    }
   ],
   "source": [
    "def centroid(vertexes):\n",
    "    _x_list = [vertex [0] for vertex in vertexes]\n",
    "    _y_list = [vertex [1] for vertex in vertexes]\n",
    "    _len = len(vertexes)\n",
    "    _x = sum(_x_list) / _len\n",
    "    _y = sum(_y_list) / _len\n",
    "    return(_x, _y)\n",
    "\n",
    "point = centroid([[25.195932, 36.220559], [25.195932, 36.631589], [25.69548, 36.631589], [25.69548, 36.220559]])\n",
    "print(centroid([[25.195932, 36.220559], [25.195932, 36.631589], [25.69548, 36.631589], [25.69548, 36.220559]]))"
   ]
  },
  {
   "cell_type": "code",
   "execution_count": 6,
   "metadata": {},
   "outputs": [
    {
     "name": "stdout",
     "output_type": "stream",
     "text": [
      "POINT (25.445706 36.42607400000001)\n",
      "<class 'shapely.geometry.point.Point'>\n"
     ]
    }
   ],
   "source": [
    "# equivalent to centroid fuction above\n",
    "from shapely.geometry import Polygon\n",
    "\n",
    "p1 = Polygon([[25.195932, 36.220559], [25.195932, 36.631589], [25.69548, 36.631589], [25.69548, 36.220559]])\n",
    "\n",
    "print(p1.centroid)\n",
    "print(type(p1.centroid))"
   ]
  },
  {
   "cell_type": "code",
   "execution_count": 7,
   "metadata": {},
   "outputs": [
    {
     "data": {
      "text/plain": [
       "True"
      ]
     },
     "execution_count": 7,
     "metadata": {},
     "output_type": "execute_result"
    }
   ],
   "source": [
    "def isSantorini(point):\n",
    "    lon = point[0]\n",
    "    lat = point[1]\n",
    "    if (lon>25.27 and lon<25.52) and (lat>36.30 and lat<36.50):\n",
    "        return True\n",
    "    else:\n",
    "        return False\n",
    "    \n",
    "    \n",
    "isSantorini(point)"
   ]
  },
  {
   "cell_type": "code",
   "execution_count": 14,
   "metadata": {},
   "outputs": [
    {
     "name": "stdout",
     "output_type": "stream",
     "text": [
      "Progress: [##################################################] 100.0%\n"
     ]
    }
   ],
   "source": [
    "# directory from the streaming api\n",
    "directory = '/home/master/santorini-tweets/'\n",
    "\n",
    "# get all files of the directory\n",
    "files = sorted([f for f in listdir(directory) if isfile(join(directory, f))])\n",
    "\n",
    "# all tweets\n",
    "tweets = []\n",
    "\n",
    "# current idx\n",
    "i = 0\n",
    "\n",
    "# load each file in the directory\n",
    "for file_tweet in files:\n",
    "    with open(directory + file_tweet, 'r') as f:\n",
    "        for line in f:\n",
    "            try:\n",
    "                tweet = json.loads(line)\n",
    "                flat_tweet = dict()\n",
    "                flat_tweet['id'] = tweet['id']\n",
    "                \n",
    "                if 'place' in tweet and tweet['place'] is not None: \n",
    "                    flat_tweet['place_full_name'] = tweet['place']['full_name'] \n",
    "                    flat_tweet['place_name'] = tweet['place']['name'] \n",
    "                    flat_tweet['place_country'] = tweet['place']['country'] \n",
    "                    flat_tweet['place_country_code'] = tweet['place']['country_code'] \n",
    "                    flat_tweet['place_place_type'] = tweet['place']['place_type']\n",
    "                    flat_tweet['place_bounding_box'] = tweet['place']['bounding_box']['coordinates'][0] \n",
    "                    flat_tweet['place_bounding_box_centroid'] = centroid(tweet['place']['bounding_box']['coordinates'][0])\n",
    "                    flat_tweet['is_bounding_box_in_santorini'] = isSantorini(flat_tweet['place_bounding_box_centroid'])\n",
    "                else:\n",
    "                    flat_tweet['place_full_name'] = None\n",
    "                    flat_tweet['place_name'] = None\n",
    "                    flat_tweet['place_country'] = None\n",
    "                    flat_tweet['place_country_code'] = None\n",
    "                    flat_tweet['place_bounding_box'] = None\n",
    "                    flat_tweet['place_place_type'] = None\n",
    "                    flat_tweet['place_bounding_box_centroid'] = None\n",
    "                    flat_tweet['is_bounding_box_in_santorini'] = None\n",
    "                \n",
    "                \n",
    "                flat_tweet['lang'] = tweet['lang']\n",
    "                flat_tweet['text'] = tweet['text']\n",
    "                \n",
    "                if 'entities' in tweet and 'media' in tweet['entities']:\n",
    "                    flat_tweet['media_url'] = tweet['entities']['media'][0]['media_url'] if tweet['entities']['media'] is not None else None\n",
    "                    flat_tweet['media_type'] = tweet['entities']['media'][0]['type'] if tweet['entities']['media'] is not None else None\n",
    "                \n",
    "                flat_tweet['geo_coordinates'] = tweet['geo']['coordinates'] if 'geo' in tweet and tweet['geo'] is not None else None\n",
    "                if flat_tweet['geo_coordinates'] is not None:\n",
    "                    swap_coords = [flat_tweet['geo_coordinates'][1], flat_tweet['geo_coordinates'][0]]\n",
    "                    flat_tweet['is_geo_coord_in_santorini'] = isSantorini(swap_coords)\n",
    "                else:\n",
    "                    flat_tweet['is_geo_coord_in_santorini'] = None\n",
    "                \n",
    "                flat_tweet['user_location'] = tweet['user']['location']\n",
    "                flat_tweet['user_screen_name'] = tweet['user']['screen_name']\n",
    "                flat_tweet['user_id'] = tweet['user']['id']\n",
    "                \n",
    "                flat_tweet['created_at'] = tweet['created_at']\n",
    "                tweets.append(flat_tweet)\n",
    "                del tweet\n",
    "            except Exception as e: \n",
    "                print(\"Unexpected error:\", e)\n",
    "\n",
    "    i = i + 1   \n",
    "    update_progress(i / len(files))\n"
   ]
  },
  {
   "cell_type": "code",
   "execution_count": 9,
   "metadata": {},
   "outputs": [
    {
     "name": "stdout",
     "output_type": "stream",
     "text": [
      "{'place_country': 'Greece', 'place_bounding_box_centroid': (24.508861, 38.2752785), 'geo_coordinates': None, 'place_bounding_box': [[19.372958, 34.802021], [19.372958, 41.748536], [29.644764, 41.748536], [29.644764, 34.802021]], 'lang': 'en', 'id': 993830134963634176, 'place_place_type': 'country', 'user_location': 'Florina, Greece', 'is_geo_coord_in_santorini': None, 'created_at': 'Tue May 08 12:29:03 +0000 2018', 'place_country_code': 'GR', 'user_id': 871024533318361089, 'place_name': 'Greece', 'text': 'This three in one plant hanger is a perfect addition to your balcony or patio! You can even hang it indoors! Check… https://t.co/0TAUJ8SQmW', 'is_bounding_box_in_santorini': False, 'place_full_name': 'Greece', 'user_screen_name': 'SanquilArt'}\n",
      "{'place_country': None, 'place_bounding_box_centroid': None, 'geo_coordinates': None, 'place_bounding_box': None, 'lang': 'en', 'id': 993830238051237888, 'place_place_type': None, 'media_type': 'photo', 'media_url': 'http://pbs.twimg.com/media/Dcq84ooWsAAJ_VG.jpg', 'is_geo_coord_in_santorini': None, 'created_at': 'Tue May 08 12:29:27 +0000 2018', 'place_country_code': None, 'user_id': 39987040, 'place_name': None, 'text': 'RT @porinju: Just found this in a cute bookstore in Santorini! https://t.co/rtwqOo2fpl', 'is_bounding_box_in_santorini': None, 'user_location': 'Ahmedabad', 'place_full_name': None, 'user_screen_name': 'securewebsite'}\n",
      "{'place_country': 'Grecia', 'place_bounding_box_centroid': (26.872766, 36.6697335), 'geo_coordinates': [37.45, 25.3333], 'place_bounding_box': [[24.100768, 35.339872], [24.100768, 37.999595], [29.644764, 37.999595], [29.644764, 35.339872]], 'lang': 'es', 'id': 993830240404365312, 'place_place_type': 'admin', 'user_location': 'Wisteria Lane', 'is_geo_coord_in_santorini': False, 'created_at': 'Tue May 08 12:29:28 +0000 2018', 'place_country_code': 'GR', 'user_id': 252513907, 'place_name': 'Egeo Meridional', 'text': 'Gracias por tantos momentos ❤️ en Míkonos https://t.co/YPEoBlheK7', 'is_bounding_box_in_santorini': False, 'place_full_name': 'Egeo Meridional, Grecia', 'user_screen_name': 'JMayorgaFenty'}\n",
      "{'place_country': None, 'place_bounding_box_centroid': None, 'geo_coordinates': None, 'place_bounding_box': None, 'lang': 'en', 'id': 993830305810337793, 'place_place_type': None, 'media_type': 'photo', 'media_url': 'http://pbs.twimg.com/media/Dcq84ooWsAAJ_VG.jpg', 'is_geo_coord_in_santorini': None, 'created_at': 'Tue May 08 12:29:44 +0000 2018', 'place_country_code': None, 'user_id': 916630881388814336, 'place_name': None, 'text': 'RT @porinju: Just found this in a cute bookstore in Santorini! https://t.co/rtwqOo2fpl', 'is_bounding_box_in_santorini': None, 'user_location': 'Gujarat, India', 'place_full_name': None, 'user_screen_name': 'yuvi000999'}\n",
      "{'place_country': 'Greece', 'place_bounding_box_centroid': (24.508861, 38.2752785), 'geo_coordinates': None, 'place_bounding_box': [[19.372958, 34.802021], [19.372958, 41.748536], [29.644764, 41.748536], [29.644764, 34.802021]], 'lang': 'el', 'id': 993830351515672576, 'place_place_type': 'country', 'user_location': 'Athens, Greece', 'is_geo_coord_in_santorini': None, 'created_at': 'Tue May 08 12:29:54 +0000 2018', 'place_country_code': 'GR', 'user_id': 86044761, 'place_name': 'Greece', 'text': 'Οι ευρωπαϊκές αγορές κινούνται με αρνητικό πρόσημο - Ειδικότερα ο DAX καταγράφει απώλειες -0,70%,  ο CAC 40 κινείτα… https://t.co/BxUB6vMU8r', 'is_bounding_box_in_santorini': False, 'place_full_name': 'Greece', 'user_screen_name': 'bankingnewsgr'}\n",
      "{'place_country': None, 'place_bounding_box_centroid': None, 'geo_coordinates': None, 'place_bounding_box': None, 'lang': 'tl', 'id': 993830356737380352, 'place_place_type': None, 'media_type': 'photo', 'media_url': 'http://pbs.twimg.com/media/ByxYRVeIAAA5YM5.jpg', 'is_geo_coord_in_santorini': None, 'created_at': 'Tue May 08 12:29:56 +0000 2018', 'place_country_code': None, 'user_id': 3288491065, 'place_name': None, 'text': 'RT @DreamHouseX: Santorini, Greece http://t.co/mZAumjjUZb', 'is_bounding_box_in_santorini': None, 'user_location': None, 'place_full_name': None, 'user_screen_name': 'laraxpatrisha'}\n",
      "{'place_country': None, 'place_bounding_box_centroid': None, 'geo_coordinates': None, 'place_bounding_box': None, 'lang': 'und', 'id': 993830398462451713, 'place_place_type': None, 'media_type': 'photo', 'media_url': 'http://pbs.twimg.com/media/DcM8hK8XcAYUYSA.jpg', 'is_geo_coord_in_santorini': None, 'created_at': 'Tue May 08 12:30:06 +0000 2018', 'place_country_code': None, 'user_id': 4017367696, 'place_name': None, 'text': 'RT @rosirivera261: #HappyDay 🌷💋 \\n#Santorini 💙😍 https://t.co/1zry8ZGhQ7', 'is_bounding_box_in_santorini': None, 'user_location': 'ici et ailleurs', 'place_full_name': None, 'user_screen_name': 'whiteteddybear5'}\n",
      "{'place_country': 'Greece', 'place_bounding_box_centroid': (24.508861, 38.2752785), 'geo_coordinates': None, 'place_bounding_box': [[19.372958, 34.802021], [19.372958, 41.748536], [29.644764, 41.748536], [29.644764, 34.802021]], 'lang': 'el', 'id': 993830423745761281, 'place_place_type': 'country', 'user_location': 'Athens, Greece', 'is_geo_coord_in_santorini': None, 'created_at': 'Tue May 08 12:30:12 +0000 2018', 'place_country_code': 'GR', 'user_id': 86044761, 'place_name': 'Greece', 'text': 'Στην Wall Street τα futures σήμερα καταγράφουν οριακή πτώση -0,25%', 'is_bounding_box_in_santorini': False, 'place_full_name': 'Greece', 'user_screen_name': 'bankingnewsgr'}\n",
      "{'place_country': 'Greece', 'place_bounding_box_centroid': (25.445706, 36.426074), 'geo_coordinates': None, 'place_bounding_box': [[25.195932, 36.220559], [25.195932, 36.631589], [25.69548, 36.631589], [25.69548, 36.220559]], 'lang': 'en', 'id': 993830423213076480, 'place_place_type': 'city', 'media_type': 'photo', 'media_url': 'http://pbs.twimg.com/media/DcrLfKwXkAEDdU1.jpg', 'is_geo_coord_in_santorini': None, 'created_at': 'Tue May 08 12:30:12 +0000 2018', 'place_country_code': 'GR', 'user_id': 48001443, 'place_name': 'Thira', 'text': 'Beachhhhhh 🏝 https://t.co/anLLR4bldA', 'is_bounding_box_in_santorini': True, 'user_location': None, 'place_full_name': 'Thira, Greece', 'user_screen_name': 'Ohhkay_andres'}\n",
      "{'place_country': None, 'place_bounding_box_centroid': None, 'geo_coordinates': None, 'place_bounding_box': None, 'lang': 'en', 'id': 993830426610462720, 'place_place_type': None, 'media_type': 'photo', 'media_url': 'http://pbs.twimg.com/media/DcEQpY4X0AEcSRO.jpg', 'is_geo_coord_in_santorini': None, 'created_at': 'Tue May 08 12:30:12 +0000 2018', 'place_country_code': None, 'user_id': 4017367696, 'place_name': None, 'text': 'RT @rosirivera261: SeeYou tomorrow dear friends!!🌹❤\\nNite🌠 Nite🌠\\n#Santorini 😍 https://t.co/mt0WLkDd4e', 'is_bounding_box_in_santorini': None, 'user_location': 'ici et ailleurs', 'place_full_name': None, 'user_screen_name': 'whiteteddybear5'}\n",
      "{'place_country': None, 'place_bounding_box_centroid': None, 'geo_coordinates': None, 'place_bounding_box': None, 'lang': 'en', 'id': 993830534697701377, 'place_place_type': None, 'media_type': 'photo', 'media_url': 'http://pbs.twimg.com/media/Dcq84ooWsAAJ_VG.jpg', 'is_geo_coord_in_santorini': None, 'created_at': 'Tue May 08 12:30:38 +0000 2018', 'place_country_code': None, 'user_id': 118630122, 'place_name': None, 'text': 'RT @porinju: Just found this in a cute bookstore in Santorini! https://t.co/rtwqOo2fpl', 'is_bounding_box_in_santorini': None, 'user_location': 'Mumbai', 'place_full_name': None, 'user_screen_name': 'shahnimish2002'}\n",
      "{'place_country': None, 'place_bounding_box_centroid': None, 'geo_coordinates': None, 'place_bounding_box': None, 'lang': 'en', 'id': 993830658395996160, 'place_place_type': None, 'media_type': 'photo', 'media_url': 'http://pbs.twimg.com/media/Dcq84ooWsAAJ_VG.jpg', 'is_geo_coord_in_santorini': None, 'created_at': 'Tue May 08 12:31:08 +0000 2018', 'place_country_code': None, 'user_id': 118609525, 'place_name': None, 'text': 'RT @porinju: Just found this in a cute bookstore in Santorini! https://t.co/rtwqOo2fpl', 'is_bounding_box_in_santorini': None, 'user_location': 'Mumbai', 'place_full_name': None, 'user_screen_name': 'Nischaytweets'}\n"
     ]
    }
   ],
   "source": [
    "for i,t in enumerate(tweets):\n",
    "    print(t)\n",
    "    if i>10: break"
   ]
  },
  {
   "cell_type": "code",
   "execution_count": 22,
   "metadata": {},
   "outputs": [
    {
     "name": "stdout",
     "output_type": "stream",
     "text": [
      "Geo-tagged tweets 45936\n",
      "Tweets with place 555703\n",
      "Non-geo-tagged tweets 4860920\n",
      "Tweets in Santorini 55006\n"
     ]
    }
   ],
   "source": [
    "# computing the geo,place,non-tagged  \n",
    "len_tweets_geotagged = len([x for x in tweets if 'geo_coordinates' in x and x['geo_coordinates'] is not None])\n",
    "len_tweets_placetagged = len([x for x in tweets if 'place_bounding_box' in x and x['place_bounding_box'] is not None])\n",
    "len_tweets_non_geotagged = len([x for x in tweets if 'geo_coordinates' in x and x['geo_coordinates'] is None])\n",
    "len_tweets_santorini = len([x for x in tweets if ('is_bounding_box_in_santorini' in x and x['is_bounding_box_in_santorini'] is True) or ('is_geo_coord_in_santorini' in x and x['is_geo_coord_in_santorini'] is True)])\n",
    "\n",
    "print(\"Geo-tagged tweets\", len_tweets_geotagged)\n",
    "print(\"Tweets with place\", len_tweets_placetagged)\n",
    "print(\"Non-geo-tagged tweets\", len_tweets_non_geotagged)\n",
    "print(\"Tweets in Santorini\", len_tweets_santorini)"
   ]
  },
  {
   "cell_type": "code",
   "execution_count": 29,
   "metadata": {},
   "outputs": [],
   "source": [
    "len_tweets_geotagged = len([x for x in tweets if 'geo_coordinates' in x and x['geo_coordinates'] is not None])\n",
    "len_tweets_geotagged_in_Santorini = len([x for x in tweets if ('geo_coordinates' in x and x['geo_coordinates'] is not None) and  ('is_geo_coord_in_santorini' in x and x['is_geo_coord_in_santorini'] is True)])\n",
    "len_tweets_place_in_Santorini = len([x for x in tweets if ('is_bounding_box_in_santorini' in x and x['is_bounding_box_in_santorini'] is True)])"
   ]
  },
  {
   "cell_type": "code",
   "execution_count": 30,
   "metadata": {},
   "outputs": [
    {
     "name": "stdout",
     "output_type": "stream",
     "text": [
      "Geo-tagged tweets 45936\n",
      "Tweets with geo 18046\n",
      "Tweets with place 54449\n"
     ]
    }
   ],
   "source": [
    "print(\"Geo-tagged tweets\", len_tweets_geotagged)\n",
    "print(\"Tweets with geo\", len_tweets_geotagged_in_Santorini)\n",
    "print(\"Tweets with place\", len_tweets_place_in_Santorini)"
   ]
  },
  {
   "cell_type": "code",
   "execution_count": 18,
   "metadata": {},
   "outputs": [
    {
     "data": {
      "text/plain": [
       "4906856"
      ]
     },
     "execution_count": 18,
     "metadata": {},
     "output_type": "execute_result"
    }
   ],
   "source": [
    "len(tweets)"
   ]
  },
  {
   "cell_type": "code",
   "execution_count": 20,
   "metadata": {},
   "outputs": [],
   "source": [
    "with open('../../datasets/santorini_tweet_ids.txt', 'w') as f:\n",
    "    for x in tweets:\n",
    "        if ('is_bounding_box_in_santorini' in x and x['is_bounding_box_in_santorini'] is True) or ('is_geo_coord_in_santorini' in x and x['is_geo_coord_in_santorini'] is True):\n",
    "            f.write(str(x['id']) + \"\\n\")"
   ]
  },
  {
   "cell_type": "code",
   "execution_count": 21,
   "metadata": {},
   "outputs": [],
   "source": [
    "with open('../../datasets/santorini_geo_tweet_ids.txt', 'w') as f:\n",
    "    for x in tweets:\n",
    "        if ('is_geo_coord_in_santorini' in x and x['is_geo_coord_in_santorini'] is True):\n",
    "            f.write(str(x['id']) + \"\\n\")"
   ]
  },
  {
   "cell_type": "markdown",
   "metadata": {},
   "source": [
    "### Older Stats:\n",
    "\n",
    "Geo-tagged tweets 45046\n",
    "Tweets with place 546258\n",
    "Non-geo-tagged tweets 4793980\n",
    "Tweets in Santorini 53166"
   ]
  },
  {
   "cell_type": "markdown",
   "metadata": {},
   "source": [
    "### Saving the tweets_geotagged"
   ]
  },
  {
   "cell_type": "code",
   "execution_count": 23,
   "metadata": {},
   "outputs": [
    {
     "name": "stdout",
     "output_type": "stream",
     "text": [
      "{'place_country': 'Greece', 'place_bounding_box_centroid': (24.508861, 38.2752785), 'geo_coordinates': None, 'place_bounding_box': [[19.372958, 34.802021], [19.372958, 41.748536], [29.644764, 41.748536], [29.644764, 34.802021]], 'lang': 'en', 'id': 993830134963634176, 'place_place_type': 'country', 'user_location': 'Florina, Greece', 'is_geo_coord_in_santorini': None, 'created_at': 'Tue May 08 12:29:03 +0000 2018', 'place_country_code': 'GR', 'user_id': 871024533318361089, 'place_name': 'Greece', 'text': 'This three in one plant hanger is a perfect addition to your balcony or patio! You can even hang it indoors! Check… https://t.co/0TAUJ8SQmW', 'is_bounding_box_in_santorini': False, 'place_full_name': 'Greece', 'user_screen_name': 'SanquilArt'}\n"
     ]
    },
    {
     "data": {
      "text/plain": [
       "True"
      ]
     },
     "execution_count": 23,
     "metadata": {},
     "output_type": "execute_result"
    }
   ],
   "source": [
    "def isValid(tweet):\n",
    "    if ('geo_coordinates' in tweet and tweet['geo_coordinates'] is not None) \\\n",
    "        or ('place_bounding_box' in tweet and tweet['place_bounding_box'] is not None):\n",
    "        return True\n",
    "    else:\n",
    "        return False\n",
    "    \n",
    "print(tweets[0])    \n",
    "isValid(tweets[0])"
   ]
  },
  {
   "cell_type": "code",
   "execution_count": 25,
   "metadata": {},
   "outputs": [
    {
     "name": "stdout",
     "output_type": "stream",
     "text": [
      "556580\n"
     ]
    }
   ],
   "source": [
    "import pickle\n",
    "\n",
    "tweets_geo_tagged_place = [x for x in tweets if isValid(x)]\n",
    "with open('../../datasets/tweets_geotagged_place.pickle', 'wb') as file:\n",
    "    pickle.dump(tweets_geo_tagged_place, file)\n",
    "\n",
    "print(len(tweets_geo_tagged_place))\n",
    "del tweets_geo_tagged_place"
   ]
  },
  {
   "cell_type": "code",
   "execution_count": null,
   "metadata": {},
   "outputs": [],
   "source": []
  }
 ],
 "metadata": {
  "kernelspec": {
   "display_name": "Python 3",
   "language": "python",
   "name": "python3"
  },
  "language_info": {
   "codemirror_mode": {
    "name": "ipython",
    "version": 3
   },
   "file_extension": ".py",
   "mimetype": "text/x-python",
   "name": "python",
   "nbconvert_exporter": "python",
   "pygments_lexer": "ipython3",
   "version": "3.5.2"
  }
 },
 "nbformat": 4,
 "nbformat_minor": 2
}
