{
 "cells": [
  {
   "cell_type": "code",
   "execution_count": 1,
   "metadata": {},
   "outputs": [],
   "source": [
    "import re \n",
    "import numpy as np\n",
    "from textblob import TextBlob \n",
    "import matplotlib.pyplot as plt\n",
    "import pandas as pd\n",
    "from wordcloud import WordCloud\n",
    "from better_profanity import profanity"
   ]
  },
  {
   "cell_type": "code",
   "execution_count": 3,
   "metadata": {},
   "outputs": [
    {
     "name": "stderr",
     "output_type": "stream",
     "text": [
      "/home/chiarap/.local/lib/python3.6/site-packages/IPython/core/interactiveshell.py:3072: DtypeWarning: Columns (0,1,10) have mixed types.Specify dtype option on import or set low_memory=False.\n",
      "  interactivity=interactivity, compiler=compiler, result=result)\n"
     ]
    }
   ],
   "source": [
    "df = pd.read_csv('../../dataset/tweets/tweet_santorini.csv')"
   ]
  },
  {
   "cell_type": "code",
   "execution_count": 4,
   "metadata": {},
   "outputs": [
    {
     "data": {
      "text/html": [
       "<div>\n",
       "<style scoped>\n",
       "    .dataframe tbody tr th:only-of-type {\n",
       "        vertical-align: middle;\n",
       "    }\n",
       "\n",
       "    .dataframe tbody tr th {\n",
       "        vertical-align: top;\n",
       "    }\n",
       "\n",
       "    .dataframe thead th {\n",
       "        text-align: right;\n",
       "    }\n",
       "</style>\n",
       "<table border=\"1\" class=\"dataframe\">\n",
       "  <thead>\n",
       "    <tr style=\"text-align: right;\">\n",
       "      <th></th>\n",
       "      <th>Unnamed: 0</th>\n",
       "      <th>id</th>\n",
       "      <th>text</th>\n",
       "      <th>place_bounding_box</th>\n",
       "      <th>place_place_type</th>\n",
       "      <th>place_full_name</th>\n",
       "      <th>lang</th>\n",
       "      <th>geo_coordinates</th>\n",
       "      <th>user_location</th>\n",
       "      <th>user_screen_name</th>\n",
       "      <th>user_id</th>\n",
       "      <th>created_at</th>\n",
       "      <th>media</th>\n",
       "      <th>hashtags</th>\n",
       "    </tr>\n",
       "  </thead>\n",
       "  <tbody>\n",
       "    <tr>\n",
       "      <th>0</th>\n",
       "      <td>0</td>\n",
       "      <td>1432463124179738624</td>\n",
       "      <td>RT @skyQY: Santorini sunset https://t.co/LN8U6...</td>\n",
       "      <td>no</td>\n",
       "      <td>NaN</td>\n",
       "      <td>NaN</td>\n",
       "      <td>in</td>\n",
       "      <td>NaN</td>\n",
       "      <td>no_location</td>\n",
       "      <td>sukhrajhere</td>\n",
       "      <td>1717979202</td>\n",
       "      <td>2021-08-30 21:59:57</td>\n",
       "      <td>yes</td>\n",
       "      <td>[]</td>\n",
       "    </tr>\n",
       "    <tr>\n",
       "      <th>1</th>\n",
       "      <td>1</td>\n",
       "      <td>1432463165556678658</td>\n",
       "      <td>RT @skyQY: Santorini sunset https://t.co/LN8U6...</td>\n",
       "      <td>no</td>\n",
       "      <td>NaN</td>\n",
       "      <td>NaN</td>\n",
       "      <td>in</td>\n",
       "      <td>NaN</td>\n",
       "      <td>no_location</td>\n",
       "      <td>moonlitcam</td>\n",
       "      <td>1244313113635295234</td>\n",
       "      <td>2021-08-30 22:00:07</td>\n",
       "      <td>yes</td>\n",
       "      <td>[]</td>\n",
       "    </tr>\n",
       "    <tr>\n",
       "      <th>2</th>\n",
       "      <td>2</td>\n",
       "      <td>1432463373778620419</td>\n",
       "      <td>RT @skyQY: Santorini sunset https://t.co/LN8U6...</td>\n",
       "      <td>no</td>\n",
       "      <td>NaN</td>\n",
       "      <td>NaN</td>\n",
       "      <td>in</td>\n",
       "      <td>NaN</td>\n",
       "      <td>Pan_pin_</td>\n",
       "      <td>20181018_p</td>\n",
       "      <td>1051309334678855680</td>\n",
       "      <td>2021-08-30 22:00:56</td>\n",
       "      <td>yes</td>\n",
       "      <td>[]</td>\n",
       "    </tr>\n",
       "    <tr>\n",
       "      <th>3</th>\n",
       "      <td>3</td>\n",
       "      <td>1432463930648141826</td>\n",
       "      <td>RT @mycharteryacht: M/Y ESTIA ZEUS (See Brochu...</td>\n",
       "      <td>no</td>\n",
       "      <td>NaN</td>\n",
       "      <td>NaN</td>\n",
       "      <td>en</td>\n",
       "      <td>NaN</td>\n",
       "      <td>New Haven, CT</td>\n",
       "      <td>CHRISTINELEM007</td>\n",
       "      <td>3262097338</td>\n",
       "      <td>2021-08-30 22:03:09</td>\n",
       "      <td>no</td>\n",
       "      <td>[]</td>\n",
       "    </tr>\n",
       "    <tr>\n",
       "      <th>4</th>\n",
       "      <td>4</td>\n",
       "      <td>1432463949404983301</td>\n",
       "      <td>i’d rather be in santorini laying on the beach...</td>\n",
       "      <td>no</td>\n",
       "      <td>NaN</td>\n",
       "      <td>NaN</td>\n",
       "      <td>en</td>\n",
       "      <td>NaN</td>\n",
       "      <td>no_location</td>\n",
       "      <td>liii11n</td>\n",
       "      <td>1337394556581588994</td>\n",
       "      <td>2021-08-30 22:03:14</td>\n",
       "      <td>no</td>\n",
       "      <td>[]</td>\n",
       "    </tr>\n",
       "  </tbody>\n",
       "</table>\n",
       "</div>"
      ],
      "text/plain": [
       "  Unnamed: 0                   id  \\\n",
       "0          0  1432463124179738624   \n",
       "1          1  1432463165556678658   \n",
       "2          2  1432463373778620419   \n",
       "3          3  1432463930648141826   \n",
       "4          4  1432463949404983301   \n",
       "\n",
       "                                                text place_bounding_box  \\\n",
       "0  RT @skyQY: Santorini sunset https://t.co/LN8U6...                 no   \n",
       "1  RT @skyQY: Santorini sunset https://t.co/LN8U6...                 no   \n",
       "2  RT @skyQY: Santorini sunset https://t.co/LN8U6...                 no   \n",
       "3  RT @mycharteryacht: M/Y ESTIA ZEUS (See Brochu...                 no   \n",
       "4  i’d rather be in santorini laying on the beach...                 no   \n",
       "\n",
       "  place_place_type place_full_name lang geo_coordinates  user_location  \\\n",
       "0              NaN             NaN   in             NaN    no_location   \n",
       "1              NaN             NaN   in             NaN    no_location   \n",
       "2              NaN             NaN   in             NaN       Pan_pin_   \n",
       "3              NaN             NaN   en             NaN  New Haven, CT   \n",
       "4              NaN             NaN   en             NaN    no_location   \n",
       "\n",
       "  user_screen_name              user_id           created_at media hashtags  \n",
       "0      sukhrajhere           1717979202  2021-08-30 21:59:57   yes       []  \n",
       "1       moonlitcam  1244313113635295234  2021-08-30 22:00:07   yes       []  \n",
       "2       20181018_p  1051309334678855680  2021-08-30 22:00:56   yes       []  \n",
       "3  CHRISTINELEM007           3262097338  2021-08-30 22:03:09    no       []  \n",
       "4          liii11n  1337394556581588994  2021-08-30 22:03:14    no       []  "
      ]
     },
     "execution_count": 4,
     "metadata": {},
     "output_type": "execute_result"
    }
   ],
   "source": [
    "df.head()"
   ]
  },
  {
   "cell_type": "code",
   "execution_count": 5,
   "metadata": {},
   "outputs": [],
   "source": [
    "df = df[['text','user_id']]"
   ]
  },
  {
   "cell_type": "code",
   "execution_count": 11,
   "metadata": {},
   "outputs": [
    {
     "data": {
      "text/plain": [
       "221502"
      ]
     },
     "execution_count": 11,
     "metadata": {},
     "output_type": "execute_result"
    }
   ],
   "source": [
    "len(df)"
   ]
  },
  {
   "cell_type": "code",
   "execution_count": 17,
   "metadata": {},
   "outputs": [],
   "source": [
    "df = df[0:500]"
   ]
  },
  {
   "cell_type": "code",
   "execution_count": 18,
   "metadata": {},
   "outputs": [],
   "source": [
    "tweet_list = df.text.to_list()"
   ]
  },
  {
   "cell_type": "code",
   "execution_count": 19,
   "metadata": {},
   "outputs": [],
   "source": [
    "def clean_tweet(tweet):\n",
    "    if type(tweet) == np.float:\n",
    "        return \"\"\n",
    "    r = tweet.lower()\n",
    "    r = profanity.censor(r)\n",
    "    r = re.sub(\"'\", \"\", r) # This is to avoid removing contractions in english\n",
    "    r = re.sub(\"@[A-Za-z0-9_]+\",\"\", r)\n",
    "    r = re.sub(\"#[A-Za-z0-9_]+\",\"\", r)\n",
    "    r = re.sub(r'http\\S+', '', r)\n",
    "    r = re.sub('[()!?]', ' ', r)\n",
    "    r = re.sub('\\[.*?\\]',' ', r)\n",
    "    r = re.sub(\"[^a-z0-9]\",\" \", r)\n",
    "    r = r.split()\n",
    "    stopwords = [\"for\", \"on\", \"an\", \"a\", \"of\", \"and\", \"in\", \"the\", \"to\", \"from\"]\n",
    "    r = [w for w in r if not w in stopwords]\n",
    "    r = \" \".join(word for word in r)\n",
    "    return r"
   ]
  },
  {
   "cell_type": "code",
   "execution_count": 20,
   "metadata": {},
   "outputs": [],
   "source": [
    "cleaned = [clean_tweet(tw) for tw in tweet_list]"
   ]
  },
  {
   "cell_type": "code",
   "execution_count": 22,
   "metadata": {},
   "outputs": [],
   "source": [
    "# Define the sentiment objects using TextBlob\n",
    "\n",
    "sentiment_objects = [TextBlob(tweet) for tweet in cleaned]"
   ]
  },
  {
   "cell_type": "code",
   "execution_count": 23,
   "metadata": {},
   "outputs": [
    {
     "data": {
      "text/plain": [
       "(0.0, TextBlob(\"rt santorini sunset\"))"
      ]
     },
     "execution_count": 23,
     "metadata": {},
     "output_type": "execute_result"
    }
   ],
   "source": [
    "sentiment_objects[0].polarity, sentiment_objects[0]"
   ]
  },
  {
   "cell_type": "code",
   "execution_count": 24,
   "metadata": {},
   "outputs": [
    {
     "data": {
      "text/plain": [
       "[[0.0, 'rt santorini sunset'],\n",
       " [0.0, 'rt santorini sunset'],\n",
       " [0.0, 'rt santorini sunset'],\n",
       " [0.4,\n",
       "  'rt m y estia zeus see brochure 74ft 2003 2021 azimut available charter east'],\n",
       " [0.0, 'i d rather be santorini laying beach tanning rn'],\n",
       " [-0.2, 'missing island life santorini greece'],\n",
       " [0.0, 'la plus belle de toutes'],\n",
       " [0.0, 'rt 1 re photo santorini'],\n",
       " [0.0, 'rt santorini sunset'],\n",
       " [0.0, 'rt santorini sunset'],\n",
       " [0.0, 'rt solo quiero ir santorini y ver un atardecer'],\n",
       " [0.0, 'rt santorini sunset'],\n",
       " [0.0, 'just posted photo santorini greece'],\n",
       " [0.0, 'just posted photo oia santorini greece'],\n",
       " [0.0, 'just posted photo santorini greece'],\n",
       " [0.5, 'lovely kettle there el capitano'],\n",
       " [0.0, 'they said her draws leaking santorini grease'],\n",
       " [0.0, 'rt santorini sunset'],\n",
       " [0.0, 'rt contigo em bali santorini no mundo todo'],\n",
       " [0.0, 'rt santorini sunset'],\n",
       " [0.0, 'hotels were invented reason'],\n",
       " [0.0, ''],\n",
       " [0.0, 'rt santorini sunset'],\n",
       " [0.0, 'no bar im out'],\n",
       " [0.0, 'rt i d rather be santorini laying beach tanning rn'],\n",
       " [0.0, 'rt they said her draws leaking santorini grease'],\n",
       " [0.0, 'rt contigo em bali santorini no mundo todo'],\n",
       " [0.0, 'necesito ir santorini y mykonos'],\n",
       " [-0.625,\n",
       "  'grecia magia de islas griegas 895 atenas mykonos santorini 8 dias salida bcn mad agp y valc'],\n",
       " [0.0, 'rt santorini sunset'],\n",
       " [0.0, 'been thinking about santorini lot'],\n",
       " [0.0, 'quero viajar'],\n",
       " [0.0, 'f cil jugadores del santorini futbol club es de segunda'],\n",
       " [0.0, 'still no bar im still out'],\n",
       " [0.0, 'rt 22'],\n",
       " [0.0, 'santorini me va si bien'],\n",
       " [0.0, 'as if'],\n",
       " [0.0, 'rt santorini sunset'],\n",
       " [0.2857142857142857, 'thas santorini right'],\n",
       " [0.0, 'santorini vibes'],\n",
       " [0.0, 'santorini'],\n",
       " [0.0,\n",
       "  'rt champions e calcio europeo allora chiamate raccontarci i tramonti di'],\n",
       " [0.0,\n",
       "  'lord padaanin nyo naman po sa santorini si aron piper nagmamakaawa po ako'],\n",
       " [0.0, 'rt santorini sunset'],\n",
       " [0.5,\n",
       "  'ok moi jsuis all ath nes santorini et paros donc je connais pas mais bonnes vacances mon reuf tu ver'],\n",
       " [0.0, ''],\n",
       " [0.0, 'she s living my dreams'],\n",
       " [0.0, 'rt santorini sunset'],\n",
       " [0.0, 'das leben lehrt das lachen korrigiert'],\n",
       " [0.0, ''],\n",
       " [0.13636363636363635,\n",
       "  'rt tony aka fingerprint has new track with spencer brown santorini is out now explorations 17 listen'],\n",
       " [0.0, 'rt santorini gr cia'],\n",
       " [0.3333333333333333, 'super we were there'],\n",
       " [-0.125,\n",
       "  'her thinking about other option i d be santorini while she s at altar'],\n",
       " [0.0, 'rt santorini'],\n",
       " [0.0,\n",
       "  'rt lord padaanin nyo naman po sa santorini si aron piper nagmamakaawa po ako'],\n",
       " [0.5,\n",
       "  'rt ok moi jsuis all ath nes santorini et paros donc je connais pas mais bonnes vacances mon reuf tu verras les'],\n",
       " [-0.125,\n",
       "  'rt her thinking about other option i d be santorini while she s at altar'],\n",
       " [0.0, 'rt necesito ir santorini y mykonos'],\n",
       " [-0.024999999999999994,\n",
       "  'at this weekend i plan watch dark comedies type movie then i will read book named lt into wild gt i ca'],\n",
       " [0.9, 'rt incredible santorini greece'],\n",
       " [0.0, 'rt solo quiero ir santorini y ver un atardecer'],\n",
       " [0.0, 'gotta get santorini'],\n",
       " [0.0, 'rt santorini blue'],\n",
       " [0.9, 'rt incredible santorini greece'],\n",
       " [0.0, 'rt santorini sunset'],\n",
       " [0.0,\n",
       "  'eh jai pas les mots cest beau cest tout voil cest cadeau je partage la famine'],\n",
       " [0.0, 'rt santorini sunset'],\n",
       " [0.0, 'rt solo quiero ir santorini y ver un atardecer'],\n",
       " [0.5, 'magic santorini'],\n",
       " [0.0, 'rt solo quiero ir santorini y ver un atardecer'],\n",
       " [0.0,\n",
       "  'anlamak istemeyen ve hayal aleminde ya ayan sizlersiniz ak n n 4 5 y ll k m kemmel bir il'],\n",
       " [0.5, 'can i skip part where im santorini with love my life already'],\n",
       " [0.5, 'can i skip part where im santorini with love my life already'],\n",
       " [0.0, 'rt santorini sunset'],\n",
       " [0.0, 'vou fugir o santorini'],\n",
       " [0.0, 'rt santorini sunset'],\n",
       " [0.0, 'rt santorini sunset'],\n",
       " [0.0, 'en santorini con james arthur'],\n",
       " [0.0,\n",
       "  'rt anlamak istemeyen ve hayal aleminde ya ayan sizlersiniz ak n n 4 5 y ll k m kemmel bir ili kisi v'],\n",
       " [0.5, 'rt can i skip part where im santorini with love my life already'],\n",
       " [0.0, 'rt santorini sunset'],\n",
       " [0.0, 'rt santorini blue'],\n",
       " [0.0, 'rt santorini greece'],\n",
       " [0.0,\n",
       "  'demain elle 5000 nouveaux followers qui vont esp rer la serrer et qui auront meme pas un followback'],\n",
       " [0.0, 'skydome santorini'],\n",
       " [0.0,\n",
       "  'kamari beach la playa m s famosa para disfrutar en tu visita santorini praia de kamari praia mais famos'],\n",
       " [0.0, 'rt santorini sunset'],\n",
       " [0.0,\n",
       "  'carter c est un ouf il fait des directs twitter sur le mercato alors qu il est santorini'],\n",
       " [0.0,\n",
       "  'rt carter c est un ouf il fait des directs twitter sur le mercato alors qu il est santorini'],\n",
       " [0.0, 'rt 1 re photo santorini'],\n",
       " [0.0, 'santorini greece mi soon fawud'],\n",
       " [0.0, 'salut je te pr sente'],\n",
       " [0.0, 'rt santorini sunset'],\n",
       " [0.0,\n",
       "  'rt carter c est un ouf il fait des directs twitter sur le mercato alors qu il est santorini'],\n",
       " [0.0, 'tout pour dire que t es bel et bien une merde'],\n",
       " [0.0, 'rt santorini sunset'],\n",
       " [0.0, 'cuando llegues la orilla del mar ba arte ya est amaneciendo'],\n",
       " [0.0, 'i don t wanna text let s go santorini greece']]"
      ]
     },
     "execution_count": 24,
     "metadata": {},
     "output_type": "execute_result"
    }
   ],
   "source": [
    "sentiment_values = [[tweet.sentiment.polarity, str(tweet)] for tweet in sentiment_objects]\n",
    "\n",
    "# Print the value of the 0th row.\n",
    "\n",
    "sentiment_values[0]\n",
    "# Print all the sentiment values\n",
    "\n",
    "sentiment_values[0:99]"
   ]
  },
  {
   "cell_type": "code",
   "execution_count": 25,
   "metadata": {},
   "outputs": [],
   "source": [
    "sentiment_df = pd.DataFrame(sentiment_values, columns=[\"polarity\", \"tweet\"])"
   ]
  },
  {
   "cell_type": "code",
   "execution_count": 26,
   "metadata": {},
   "outputs": [
    {
     "data": {
      "text/html": [
       "<div>\n",
       "<style scoped>\n",
       "    .dataframe tbody tr th:only-of-type {\n",
       "        vertical-align: middle;\n",
       "    }\n",
       "\n",
       "    .dataframe tbody tr th {\n",
       "        vertical-align: top;\n",
       "    }\n",
       "\n",
       "    .dataframe thead th {\n",
       "        text-align: right;\n",
       "    }\n",
       "</style>\n",
       "<table border=\"1\" class=\"dataframe\">\n",
       "  <thead>\n",
       "    <tr style=\"text-align: right;\">\n",
       "      <th></th>\n",
       "      <th>polarity</th>\n",
       "      <th>tweet</th>\n",
       "    </tr>\n",
       "  </thead>\n",
       "  <tbody>\n",
       "    <tr>\n",
       "      <th>0</th>\n",
       "      <td>0.0</td>\n",
       "      <td>rt santorini sunset</td>\n",
       "    </tr>\n",
       "    <tr>\n",
       "      <th>1</th>\n",
       "      <td>0.0</td>\n",
       "      <td>rt santorini sunset</td>\n",
       "    </tr>\n",
       "    <tr>\n",
       "      <th>2</th>\n",
       "      <td>0.0</td>\n",
       "      <td>rt santorini sunset</td>\n",
       "    </tr>\n",
       "    <tr>\n",
       "      <th>3</th>\n",
       "      <td>0.4</td>\n",
       "      <td>rt m y estia zeus see brochure 74ft 2003 2021 ...</td>\n",
       "    </tr>\n",
       "    <tr>\n",
       "      <th>4</th>\n",
       "      <td>0.0</td>\n",
       "      <td>i d rather be santorini laying beach tanning rn</td>\n",
       "    </tr>\n",
       "  </tbody>\n",
       "</table>\n",
       "</div>"
      ],
      "text/plain": [
       "   polarity                                              tweet\n",
       "0       0.0                                rt santorini sunset\n",
       "1       0.0                                rt santorini sunset\n",
       "2       0.0                                rt santorini sunset\n",
       "3       0.4  rt m y estia zeus see brochure 74ft 2003 2021 ...\n",
       "4       0.0    i d rather be santorini laying beach tanning rn"
      ]
     },
     "execution_count": 26,
     "metadata": {},
     "output_type": "execute_result"
    }
   ],
   "source": [
    "sentiment_df.head()"
   ]
  },
  {
   "cell_type": "code",
   "execution_count": 27,
   "metadata": {},
   "outputs": [
    {
     "data": {
      "text/plain": [
       " 0.000000    431\n",
       " 0.500000     10\n",
       " 0.200000      7\n",
       "-0.500000      5\n",
       " 0.136364      4\n",
       "-0.166667      4\n",
       " 0.850000      3\n",
       "-0.125000      3\n",
       " 0.900000      3\n",
       " 0.285714      2\n",
       "-0.625000      2\n",
       " 0.700000      2\n",
       "-0.100000      2\n",
       " 0.250000      2\n",
       " 0.150000      1\n",
       " 0.125000      1\n",
       " 0.625000      1\n",
       " 1.000000      1\n",
       " 0.433333      1\n",
       "-0.150000      1\n",
       " 0.333333      1\n",
       "-0.025000      1\n",
       " 0.416667      1\n",
       " 0.400000      1\n",
       " 0.100000      1\n",
       " 0.350000      1\n",
       " 0.087500      1\n",
       "-0.200000      1\n",
       " 0.418182      1\n",
       "-0.050000      1\n",
       " 0.450000      1\n",
       " 0.100000      1\n",
       " 0.104762      1\n",
       " 0.275000      1\n",
       "Name: polarity, dtype: int64"
      ]
     },
     "execution_count": 27,
     "metadata": {},
     "output_type": "execute_result"
    }
   ],
   "source": [
    "sentiment_df.polarity.value_counts()"
   ]
  },
  {
   "cell_type": "code",
   "execution_count": null,
   "metadata": {},
   "outputs": [],
   "source": []
  }
 ],
 "metadata": {
  "interpreter": {
   "hash": "31f2aee4e71d21fbe5cf8b01ff0e069b9275f58929596ceb00d14d90e3e16cd6"
  },
  "kernelspec": {
   "display_name": "Python 3.6.13 64-bit",
   "language": "python",
   "name": "python3"
  },
  "language_info": {
   "codemirror_mode": {
    "name": "ipython",
    "version": 3
   },
   "file_extension": ".py",
   "mimetype": "text/x-python",
   "name": "python",
   "nbconvert_exporter": "python",
   "pygments_lexer": "ipython3",
   "version": "3.6.13"
  },
  "orig_nbformat": 4
 },
 "nbformat": 4,
 "nbformat_minor": 2
}
