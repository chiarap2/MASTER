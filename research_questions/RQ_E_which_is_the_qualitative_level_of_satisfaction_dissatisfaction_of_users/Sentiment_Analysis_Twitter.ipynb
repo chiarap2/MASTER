{
  "cells": [
    {
      "cell_type": "code",
      "execution_count": null,
      "metadata": {
        "colab": {
          "base_uri": "https://localhost:8080/"
        },
        "id": "VyD7yCh5lxLi",
        "outputId": "a363a4e4-f5fa-4588-fd8c-8f640785cd2d"
      },
      "outputs": [],
      "source": [
        "!pip install transformers sentencepiece"
      ]
    },
    {
      "cell_type": "code",
      "execution_count": null,
      "metadata": {
        "id": "A7nzol99mjK9"
      },
      "outputs": [],
      "source": [
        "from transformers import AutoModelForSequenceClassification\n",
        "from transformers import TFAutoModelForSequenceClassification\n",
        "from transformers import AutoTokenizer, AutoConfig\n",
        "import numpy as np\n",
        "from scipy.special import softmax\n",
        "import pandas as pd"
      ]
    },
    {
      "cell_type": "code",
      "execution_count": null,
      "metadata": {
        "colab": {
          "base_uri": "https://localhost:8080/"
        },
        "id": "VZj0-yGkmofq",
        "outputId": "f94015de-daf7-4610-f662-b169bd4a335e"
      },
      "outputs": [],
      "source": [
        "df = pd.read_csv('/content/drive/MyDrive/CNR/Santorini/tweet_santorini.csv')"
      ]
    },
    {
      "cell_type": "code",
      "execution_count": null,
      "metadata": {
        "colab": {
          "base_uri": "https://localhost:8080/",
          "height": 434
        },
        "id": "_muDghdZmzIO",
        "outputId": "4afaf8ad-c517-4bd1-baba-13bfb3f2a5ea"
      },
      "outputs": [],
      "source": [
        "df.head()"
      ]
    },
    {
      "cell_type": "code",
      "execution_count": null,
      "metadata": {
        "id": "37DCs1J_qBHG"
      },
      "outputs": [],
      "source": [
        "df['text']=df['text'].str.lower()"
      ]
    },
    {
      "cell_type": "code",
      "execution_count": null,
      "metadata": {
        "id": "5pCn4qLVrbuj"
      },
      "outputs": [],
      "source": [
        "df = df.dropna(subset=['text'])"
      ]
    },
    {
      "cell_type": "code",
      "execution_count": null,
      "metadata": {
        "id": "5APBYFtisIWd"
      },
      "outputs": [],
      "source": [
        "df = df[~df.text.str.startswith('rt')]"
      ]
    },
    {
      "cell_type": "code",
      "execution_count": null,
      "metadata": {
        "id": "uQbQ0KxpqDmE"
      },
      "outputs": [],
      "source": [
        "stopwordlist = ['a', 'about', 'above', 'after', 'again', 'ain', 'all', 'am', 'an',\n",
        "             'and','any','are', 'as', 'at', 'be', 'because', 'been', 'before',\n",
        "             'being', 'below', 'between','both', 'by', 'can', 'd', 'did', 'do',\n",
        "             'does', 'doing', 'down', 'during', 'each','few', 'for', 'from',\n",
        "             'further', 'had', 'has', 'have', 'having', 'he', 'her', 'here',\n",
        "             'hers', 'herself', 'him', 'himself', 'his', 'how', 'i', 'if', 'in',\n",
        "             'into','is', 'it', 'its', 'itself', 'just', 'll', 'm', 'ma',\n",
        "             'me', 'more', 'most','my', 'myself', 'now', 'o', 'of', 'on', 'once',\n",
        "             'only', 'or', 'other', 'our', 'ours','ourselves', 'out', 'own', 're','s', 'same', 'she', \"shes\", 'should', \"shouldve\",'so', 'some', 'such',\n",
        "             't', 'than', 'that', \"thatll\", 'the', 'their', 'theirs', 'them',\n",
        "             'themselves', 'then', 'there', 'these', 'they', 'this', 'those',\n",
        "             'through', 'to', 'too','under', 'until', 'up', 've', 'very', 'was',\n",
        "             'we', 'were', 'what', 'when', 'where','which','while', 'who', 'whom',\n",
        "             'why', 'will', 'with', 'won', 'y', 'you', \"youd\",\"youll\", \"youre\",\n",
        "             \"youve\", 'your', 'yours', 'yourself', 'yourselves']"
      ]
    },
    {
      "cell_type": "code",
      "execution_count": null,
      "metadata": {
        "colab": {
          "base_uri": "https://localhost:8080/"
        },
        "id": "ULWtZPT1qHqb",
        "outputId": "3a437113-b4a2-4ce9-f329-c80d8fbf8620"
      },
      "outputs": [],
      "source": [
        "STOPWORDS = set(stopwordlist)\n",
        "def cleaning_stopwords(text):\n",
        "    return \" \".join([word for word in str(text).split() if word not in STOPWORDS])\n",
        "df['text'] = df['text'].apply(lambda text: cleaning_stopwords(text))\n",
        "df['text'].head()"
      ]
    },
    {
      "cell_type": "code",
      "execution_count": null,
      "metadata": {
        "colab": {
          "base_uri": "https://localhost:8080/"
        },
        "id": "A-R6hgiyqU5t",
        "outputId": "36505e29-71c3-45f0-9a3a-e52c25f8ba55"
      },
      "outputs": [],
      "source": [
        "import re\n",
        "\n",
        "def cleaning_URLs(data):\n",
        "    return re.sub('((www.[^s]+)|(https?://[^s]+))',' ',data)\n",
        "df['text'] = df['text'].apply(lambda x: cleaning_URLs(x))\n",
        "df['text'].tail()"
      ]
    },
    {
      "cell_type": "code",
      "execution_count": null,
      "metadata": {
        "colab": {
          "base_uri": "https://localhost:8080/"
        },
        "id": "ZNf7639UqN2S",
        "outputId": "bf5ac17e-aa15-4894-cf3b-a901a0f1efb3"
      },
      "outputs": [],
      "source": [
        "import string\n",
        "english_punctuations = string.punctuation\n",
        "punctuations_list = english_punctuations\n",
        "def cleaning_punctuations(text):\n",
        "    translator = str.maketrans('', '', punctuations_list)\n",
        "    return text.translate(translator)\n",
        "df['text']= df['text'].apply(lambda x: cleaning_punctuations(x))\n",
        "df['text'].tail()"
      ]
    },
    {
      "cell_type": "code",
      "execution_count": null,
      "metadata": {
        "id": "FmgXI6nLPXox"
      },
      "outputs": [],
      "source": [
        "df = df.drop_duplicates(subset=['text'])"
      ]
    },
    {
      "cell_type": "code",
      "execution_count": null,
      "metadata": {
        "id": "Iz9rzeZtm0UB"
      },
      "outputs": [],
      "source": [
        "data = df.text.to_list()"
      ]
    },
    {
      "cell_type": "code",
      "execution_count": null,
      "metadata": {
        "id": "Tm9xRHxBxCVI"
      },
      "outputs": [],
      "source": [
        "MODEL = f\"cardiffnlp/twitter-xlm-roberta-base-sentiment\"\n",
        "\n",
        "tokenizer = AutoTokenizer.from_pretrained(MODEL)\n",
        "config = AutoConfig.from_pretrained(MODEL)\n",
        "\n",
        "# PT\n",
        "model = AutoModelForSequenceClassification.from_pretrained(MODEL)\n",
        "#model.save_pretrained(MODEL)"
      ]
    },
    {
      "cell_type": "code",
      "execution_count": null,
      "metadata": {
        "colab": {
          "base_uri": "https://localhost:8080/"
        },
        "id": "GlZ11EceSVL2",
        "outputId": "7c21a576-9785-41d3-bc7d-c33583b218b2"
      },
      "outputs": [],
      "source": [
        "len(data)"
      ]
    },
    {
      "cell_type": "code",
      "execution_count": null,
      "metadata": {
        "id": "Mdx2I35ztSka"
      },
      "outputs": [],
      "source": [
        "import time, sys\n",
        "from IPython.display import clear_output"
      ]
    },
    {
      "cell_type": "code",
      "execution_count": null,
      "metadata": {
        "id": "OgT-R_75tE--"
      },
      "outputs": [],
      "source": [
        "def update_progress(progress):\n",
        "    bar_length = 50\n",
        "    if isinstance(progress, int):\n",
        "        progress = float(progress)\n",
        "    if not isinstance(progress, float):\n",
        "        progress = 0\n",
        "    if progress < 0:\n",
        "        progress = 0\n",
        "    if progress >= 1:\n",
        "        progress = 1\n",
        "\n",
        "    block = int(round(bar_length * progress))\n",
        "\n",
        "    clear_output(wait = True)\n",
        "    text = \"Progress: [{0}] {1:.1f}%\".format( \"#\" * block + \"-\" * (bar_length - block), progress * 100)\n",
        "    print(text)"
      ]
    },
    {
      "cell_type": "code",
      "execution_count": null,
      "metadata": {
        "colab": {
          "base_uri": "https://localhost:8080/"
        },
        "id": "GYwNtVtuxpra",
        "outputId": "b171e051-3511-438e-9ddb-4858ea2f46c4"
      },
      "outputs": [],
      "source": [
        "i = 0\n",
        "final_scores = []\n",
        "#\n",
        "for text in data:\n",
        "\n",
        "  encoded_input = tokenizer(text, return_tensors='pt')\n",
        "  output = model(**encoded_input)\n",
        "  scores = output[0][0].detach().numpy()\n",
        "  scores = softmax(scores)\n",
        "  scores = np.argmax(scores)\n",
        "\n",
        "  final_scores.append(scores)\n",
        "\n",
        "  i += 1\n",
        "  update_progress(i / len(data))\n"
      ]
    },
    {
      "cell_type": "code",
      "execution_count": null,
      "metadata": {
        "id": "LoiLNvGdsjxG"
      },
      "outputs": [],
      "source": [
        "import plotly as py\n",
        "import plotly.graph_objs as go\n"
      ]
    },
    {
      "cell_type": "code",
      "execution_count": null,
      "metadata": {
        "id": "XQfHVTjAsu4b"
      },
      "outputs": [],
      "source": [
        "def fig_pie(labels, values, title, topk=None):\n",
        "\n",
        "    # get top-k\n",
        "    if topk is not None:\n",
        "        # sort by value\n",
        "        sorted_list = sorted(zip(labels, values), key=lambda tup: tup[1], reverse=True)\n",
        "\n",
        "        # getting the ones after the topk\n",
        "        sorted_list_others = sorted_list[topk:]\n",
        "\n",
        "        # summing the values for the others\n",
        "        sum_others = sum([x[1] for x in sorted_list_others])\n",
        "\n",
        "        # getting the top-k\n",
        "        sorted_list = sorted_list[:topk]\n",
        "\n",
        "        # split labels and values again\n",
        "        labels, values = zip(*sorted_list)\n",
        "\n",
        "        # adding the \"others\" label\n",
        "        labels = list(labels)\n",
        "        labels.append(\"others\")\n",
        "\n",
        "        values = list(values)\n",
        "        values.append(sum_others)\n",
        "\n",
        "\n",
        "    # setting for the plot\n",
        "    fig = {\n",
        "        \"data\": [\n",
        "            { \"values\": values\n",
        "             , \"labels\": labels\n",
        "             , \"hole\": .2\n",
        "             , \"type\": \"pie\"}]\n",
        "        , \"layout\": {\"title\": title}\n",
        "    }\n",
        "    return fig"
      ]
    },
    {
      "cell_type": "code",
      "execution_count": null,
      "metadata": {
        "colab": {
          "base_uri": "https://localhost:8080/",
          "height": 942
        },
        "id": "gjR5Zk1SrdB8",
        "outputId": "99646ffa-7265-485f-fe09-0579a94fcad2"
      },
      "outputs": [],
      "source": [
        "# computing the geo,place,non-tagged\n",
        "len_positive = len([x for x in final_scores if x==2])\n",
        "len_neutral = len([x for x in final_scores if x==1])\n",
        "len_negative = len([x for x in final_scores if x==0])\n",
        "\n",
        "# values for the plot\n",
        "labels = ['Positive','Neutral','Negative']\n",
        "values = [len_positive, len_neutral, len_negative]\n",
        "\n",
        "# plot\n",
        "fig = fig_pie(labels, values, \"Satisfation/dissatisfation level\")\n",
        "fig = go.Figure(fig)\n",
        "fig.show()\n",
        "fig.write_image('output/satisfation_level.png')"
      ]
    },
    {
      "cell_type": "code",
      "execution_count": null,
      "metadata": {
        "id": "F6nh0EI0siTn"
      },
      "outputs": [],
      "source": []
    }
  ],
  "metadata": {
    "colab": {
      "provenance": []
    },
    "kernelspec": {
      "display_name": "Python 3",
      "name": "python3"
    },
    "language_info": {
      "name": "python"
    }
  },
  "nbformat": 4,
  "nbformat_minor": 0
}
